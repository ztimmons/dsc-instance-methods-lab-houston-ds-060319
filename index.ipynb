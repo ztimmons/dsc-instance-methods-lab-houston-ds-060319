{
 "cells": [
  {
   "cell_type": "markdown",
   "metadata": {},
   "source": [
    "# Instance Methods - Lab"
   ]
  },
  {
   "cell_type": "markdown",
   "metadata": {},
   "source": [
    "## Introduction\n",
    "In the last lesson, you learned more about instance methods -- what are they and how to define them. In this lab, you are going to flesh out the driver and passenger classes by writing your own instance methods on these classes."
   ]
  },
  {
   "cell_type": "markdown",
   "metadata": {},
   "source": [
    "## Objectives\n",
    "\n",
    "You will be able to: \n",
    "\n",
    "* Define classes and instantiate instances of those classes\n",
    "* Define and call instance methods"
   ]
  },
  {
   "cell_type": "markdown",
   "metadata": {},
   "source": [
    "## Defining Classes and Instance Methods"
   ]
  },
  {
   "cell_type": "markdown",
   "metadata": {},
   "source": [
    "In this section, define two classes, `Driver`, `Passenger`. \n",
    "\n",
    "In the `Driver` class, define the instance method `greeting` that returns the string `\"Hey, how are you?\"`. Then define the method `ask_for_destination`, which returns the string `\"Where would you like to go today?\"`. \n",
    "\n",
    "In the `Passenger` class, define the instance method `reply_greeting` that returns the string `\"I am doing well! Thanks for picking me up today!\"`. Then define the method `in_a_hurry`, which returns the string `\"Punch it! They're on our tail!\"`. \n",
    "\n",
    "Define these classes and instance methods in the cells below\n",
    "    \n",
    "> **Remember:** *as we learned in the previous lesson, we need to define our instance methods with at least one argument (`self`) in order to call them on an instance object. Don't worry, we will learn more about this argument in a later lesson.*"
   ]
  },
  {
   "cell_type": "code",
   "execution_count": 6,
   "metadata": {},
   "outputs": [],
   "source": [
    "# Define Driver class here\n",
    "class Driver:\n",
    "\n",
    "    def greeting(self):\n",
    "        return \"Hey, how are you?\"\n",
    "    \n",
    "    def ask_for_destination(self):\n",
    "        return \"Where would you like to go today?\""
   ]
  },
  {
   "cell_type": "code",
   "execution_count": 3,
   "metadata": {},
   "outputs": [
    {
     "data": {
      "text/plain": [
       "{'name': 'Uncle P',\n",
       " 'address': 'Baltic Avenue',\n",
       " 'money_spent': '200 dollars',\n",
       " 'referrals': 4}"
      ]
     },
     "execution_count": 3,
     "metadata": {},
     "output_type": "execute_result"
    }
   ],
   "source": [
    "# Define Passenger class here \n",
    "class Passenger:\n",
    "    \n",
    "    def reply_greeting(self):\n",
    "        return \"I am doing well! Thanks for picking me up today!\"\n",
    "    \n",
    "    def in_a_hurry(self):\n",
    "        return \"Punch it! They're on our tail!\"\n",
    "\n",
    "class Customer():\n",
    "  \n",
    "    def __init__(self, name, address, money_spent, referrals):\n",
    "        self.name = name\n",
    "        self.address = address\n",
    "        self.money_spent = money_spent\n",
    "        self.referrals = referrals\n",
    "\n",
    "    def info(self):\n",
    "        return( vars(self) )\n",
    "\n",
    "Jabroni = Customer(\"Jabroni\", \"123 Sbarro Lane\", \"150 thousand dollars\", 0)\n",
    "Richie_Rich = Customer(\"Dick Richard\", \"1900 Money Drive\", \"150 million dollars\", 951)\n",
    "Uncle_Pennybags = Customer(\"Uncle P\", \"Baltic Avenue\", \"200 dollars\", 4)\n",
    "Jabroni_dict = Jabroni.info()\n",
    "Richie_dict = Richie_Rich.info()\n",
    "Uncle_dict = Uncle_Pennybags.info()\n",
    "Jabroni_dict\n",
    "Richie_dict\n",
    "Uncle_dict"
   ]
  },
  {
   "cell_type": "markdown",
   "metadata": {},
   "source": [
    "## Instantiate Instances and Practice Using Instance Methods\n",
    "Great! You've defined classes and instance methods. Now, in this section you're going to actually use them!\n",
    "\n",
    "Start by instantiating two drivers and two passengers. Assign the drivers to the variables `daniel` and `meryl` and assign the passengers to `niky` and `terrance`."
   ]
  },
  {
   "cell_type": "code",
   "execution_count": 7,
   "metadata": {},
   "outputs": [],
   "source": [
    "daniel = Driver() # driver\n",
    "meryl = Driver() # driver\n",
    "niky = Passenger() # passenger\n",
    "terrance = Passenger() # passenger"
   ]
  },
  {
   "cell_type": "markdown",
   "metadata": {},
   "source": [
    "Alright, you have our passengers and drivers! Now you need to put those instance methods to use. Try them out and assign the return values to the variables below. Have `daniel` greet his passenger, who is going to be `niky`. Assign the greeting to the variable, `polite_greeting`. Have `niky` respond by calling `in_a_hurry`, and assign the return value to the variable, `no_time_to_talk`."
   ]
  },
  {
   "cell_type": "code",
   "execution_count": 9,
   "metadata": {},
   "outputs": [
    {
     "name": "stdout",
     "output_type": "stream",
     "text": [
      "Hey, how are you?\n"
     ]
    }
   ],
   "source": [
    "polite_greeting = daniel.greeting()\n",
    "print(polite_greeting)"
   ]
  },
  {
   "cell_type": "code",
   "execution_count": 10,
   "metadata": {},
   "outputs": [
    {
     "name": "stdout",
     "output_type": "stream",
     "text": [
      "Punch it! They're on our tail!\n"
     ]
    }
   ],
   "source": [
    "no_time_to_talk = niky.in_a_hurry()\n",
    "print(no_time_to_talk)"
   ]
  },
  {
   "cell_type": "markdown",
   "metadata": {},
   "source": [
    "## Extra Practice\n",
    "\n",
    "Now, let's have some extra practice creating classes, instantiating objects, and using instance methods. \n",
    "\n",
    "In the cells below, you'll create three different classes that represent animals in a zoo--lions, tigers, and elephants.  Each animal should have a method, `speak`, which returns a string containing the sound they make (feel free have some fun with this--we don't know how to spell the sound an elephant makes any better than you do!). "
   ]
  },
  {
   "cell_type": "code",
   "execution_count": 14,
   "metadata": {},
   "outputs": [],
   "source": [
    "# create Lion class\n",
    "class Lion:\n",
    "\n",
    "    def speak(self):\n",
    "        return \"Roar\""
   ]
  },
  {
   "cell_type": "code",
   "execution_count": 16,
   "metadata": {},
   "outputs": [],
   "source": [
    "# create Tiger class\n",
    "class Tiger:\n",
    "\n",
    "    def speak(self):\n",
    "        return \"Grrreat!\""
   ]
  },
  {
   "cell_type": "code",
   "execution_count": 18,
   "metadata": {},
   "outputs": [],
   "source": [
    "# create Elephant class\n",
    "class Elephant:\n",
    "\n",
    "    def speak(self):\n",
    "        return \"Honk\""
   ]
  },
  {
   "cell_type": "markdown",
   "metadata": {},
   "source": [
    "Now, in the cell below, create an instance of each animal. "
   ]
  },
  {
   "cell_type": "code",
   "execution_count": 19,
   "metadata": {},
   "outputs": [],
   "source": [
    "simba = Lion()\n",
    "tony = Tiger()\n",
    "dumbo = Elephant()"
   ]
  },
  {
   "cell_type": "markdown",
   "metadata": {},
   "source": [
    "Now, append each of them into the list `zoo` in the cell below."
   ]
  },
  {
   "cell_type": "code",
   "execution_count": 24,
   "metadata": {},
   "outputs": [
    {
     "name": "stdout",
     "output_type": "stream",
     "text": [
      "[<__main__.Lion object at 0x7f67b56707f0>, <__main__.Tiger object at 0x7f67b5670588>, <__main__.Elephant object at 0x7f67b56707b8>]\n"
     ]
    }
   ],
   "source": [
    "zoo = []\n",
    "zoo.append(simba)\n",
    "zoo.append(tony)\n",
    "zoo.append(dumbo)\n",
    "print(zoo)"
   ]
  },
  {
   "cell_type": "markdown",
   "metadata": {},
   "source": [
    "Now, loop through the `zoo` list and call print out the `.speak()` method for every animal in the zoo. "
   ]
  },
  {
   "cell_type": "code",
   "execution_count": 23,
   "metadata": {},
   "outputs": [
    {
     "name": "stdout",
     "output_type": "stream",
     "text": [
      "Roar\n",
      "Grrreat!\n",
      "Honk\n"
     ]
    }
   ],
   "source": [
    "for animal in zoo:\n",
    "    print(animal.speak())"
   ]
  },
  {
   "cell_type": "markdown",
   "metadata": {},
   "source": [
    "## Summary\n",
    "In this lab, you practiced defining classes and instance methods. You then instantiated instances of our classes and used them to practice calling our instance methods. "
   ]
  }
 ],
 "metadata": {
  "kernelspec": {
   "display_name": "Python 3",
   "language": "python",
   "name": "python3"
  },
  "language_info": {
   "codemirror_mode": {
    "name": "ipython",
    "version": 3
   },
   "file_extension": ".py",
   "mimetype": "text/x-python",
   "name": "python",
   "nbconvert_exporter": "python",
   "pygments_lexer": "ipython3",
   "version": "3.6.6"
  }
 },
 "nbformat": 4,
 "nbformat_minor": 2
}
